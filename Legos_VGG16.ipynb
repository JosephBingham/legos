{
  "nbformat": 4,
  "nbformat_minor": 0,
  "metadata": {
    "colab": {
      "name": "Legos VGG16.ipynb",
      "provenance": [],
      "collapsed_sections": []
    },
    "kernelspec": {
      "name": "python3",
      "display_name": "Python 3"
    },
    "accelerator": "GPU"
  },
  "cells": [
    {
      "cell_type": "code",
      "metadata": {
        "id": "nERc21fRq3aP"
      },
      "source": [
        "from google.colab import drive\n",
        "\n",
        "import torch\n",
        "from torch import nn\n",
        "import torch.nn.functional as F\n",
        "from torchvision import transforms, datasets, models\n",
        "\n",
        "import matplotlib.pyplot as plt\n",
        "from sklearn.cluster import MiniBatchKMeans\n",
        "import numpy as np\n",
        "\n",
        "import copy\n",
        "import json"
      ],
      "execution_count": 1,
      "outputs": []
    },
    {
      "cell_type": "code",
      "metadata": {
        "id": "VowgTeQ4rnWh"
      },
      "source": [
        "# Hyperparameters\n",
        "\n",
        "BATCH_SIZE = 32\n",
        "BLOCK_SIZE = 4\n",
        "N_CENTROIDS = 50\n",
        "DELTA = abs(2.170973157686992 - 0.003227713898589287) / 2\n",
        "MODULE_FILTER = lambda name, module: isinstance(module, nn.Conv2d) or isinstance(module, nn.Linear) and name != 'classifier.6'"
      ],
      "execution_count": 2,
      "outputs": []
    },
    {
      "cell_type": "code",
      "metadata": {
        "id": "IDF--2P9rKrF",
        "colab": {
          "base_uri": "https://localhost:8080/"
        },
        "outputId": "d3ce72d3-47b8-45b4-c90c-e7164214b4e8"
      },
      "source": [
        "# Model setup\n",
        "\n",
        "drive.mount('/content/gdrive')\n",
        "\n",
        "transform = transforms.Compose([\n",
        "    transforms.ToTensor(),\n",
        "    transforms.Normalize((0.1307,), (0.3081,))\n",
        "])\n",
        "test_data = datasets.CIFAR10('cifar10', train=False, download=True, transform=transform)\n",
        "test_loader = torch.utils.data.DataLoader(test_data, batch_size=BATCH_SIZE, shuffle=True)\n",
        "\n",
        "device = torch.device('cuda')\n",
        "\n",
        "model = models.vgg16()\n",
        "model.classifier[6] = nn.Linear(4096, 10)\n",
        "model.load_state_dict(torch.load('/content/gdrive/My Drive/vgg16legos.pt'))\n",
        "model = model.to(device)\n",
        "torch.set_grad_enabled(False)\n",
        "\n",
        "\n",
        "def test(model):\n",
        "    model.eval()\n",
        "    correct = 0\n",
        "    for x, y in test_loader:\n",
        "        x, y = x.to(device), y.to(device)\n",
        "        output = model(x)\n",
        "        predictions = output.argmax(1)\n",
        "        correct += (predictions == y).sum().item()\n",
        "    return correct / len(test_loader.dataset)\n",
        "\n",
        "print(f'Baseline accuracy: {test(model)}')"
      ],
      "execution_count": 3,
      "outputs": [
        {
          "output_type": "stream",
          "text": [
            "Drive already mounted at /content/gdrive; to attempt to forcibly remount, call drive.mount(\"/content/gdrive\", force_remount=True).\n",
            "Files already downloaded and verified\n",
            "Baseline accuracy: 0.9002\n"
          ],
          "name": "stdout"
        }
      ]
    },
    {
      "cell_type": "code",
      "metadata": {
        "colab": {
          "base_uri": "https://localhost:8080/",
          "height": 317
        },
        "id": "aeVr8oditcqM",
        "outputId": "d1e104d6-25b5-4959-9893-294e49b459b6"
      },
      "source": [
        "# Sample image\n",
        "classes = ['airplane', 'automobile', 'bird', 'cat', 'deer', 'dog', 'frog', 'horse', 'ship', 'truck']\n",
        "\n",
        "x, y = next(iter(test_loader))\n",
        "x, y = x.to(device), y.to(device)\n",
        "output = model(x)\n",
        "predictions = torch.argmax(F.log_softmax(output, dim=1).cpu(), axis=1)\n",
        "plt.imshow(x[0].permute(1, 2, 0).cpu())\n",
        "print(f'Expected label: {classes[y[0]]}')\n",
        "print(f'Predicted label: {classes[predictions[0]]}')"
      ],
      "execution_count": 4,
      "outputs": [
        {
          "output_type": "stream",
          "text": [
            "Clipping input data to the valid range for imshow with RGB data ([0..1] for floats or [0..255] for integers).\n"
          ],
          "name": "stderr"
        },
        {
          "output_type": "stream",
          "text": [
            "Expected label: dog\n",
            "Predicted label: cat\n"
          ],
          "name": "stdout"
        },
        {
          "output_type": "display_data",
          "data": {
            "image/png": "[encoded data removed]",
            "text/plain": [
              "<Figure size 432x288 with 1 Axes>"
            ]
          },
          "metadata": {
            "tags": [],
            "needs_background": "light"
          }
        }
      ]
    },
    {
      "cell_type": "code",
      "metadata": {
        "id": "izq5SET4GWn-"
      },
      "source": [
        "def blockify(x, block_width, block_height):\n",
        "    return x.reshape(-1, block_width * block_height)\n",
        "\n",
        "\n",
        "def deblockify(x, *original_dimensions):\n",
        "    return x.reshape(*original_dimensions)\n",
        "\n",
        "\n",
        "def legoifier(model, block_size=BLOCK_SIZE, n_centroids=N_CENTROIDS, module_filter=MODULE_FILTER):\n",
        "    modules_to_update = [\n",
        "        module for name, module in model.named_modules()\n",
        "        if module_filter(name, module)\n",
        "    ]\n",
        "\n",
        "    # Group into blocks\n",
        "\n",
        "    blocks = torch.cat([\n",
        "        blockify(module.weight, block_size, block_size)\n",
        "        for module in modules_to_update\n",
        "    ])\n",
        "\n",
        "    # Cluster blocks\n",
        "\n",
        "    kmeans = MiniBatchKMeans(\n",
        "        n_clusters=n_centroids,\n",
        "        init='k-means++',\n",
        "        random_state=0\n",
        "    )\n",
        "    distances = kmeans.fit_transform(blocks.cpu())\n",
        "    distances = distances[np.arange(distances.shape[0]), kmeans.labels_]\n",
        "    distances = torch.from_numpy(distances).to(device)\n",
        "\n",
        "    def legoify(delta=DELTA):\n",
        "        lego_model = copy.deepcopy(model)\n",
        "        modules_to_update = [\n",
        "            module for name, module in lego_model.named_modules()\n",
        "            if module_filter(name, module)\n",
        "        ]\n",
        "        blocks = torch.cat([\n",
        "            blockify(module.weight, block_size, block_size)\n",
        "            for module in modules_to_update\n",
        "        ])\n",
        "\n",
        "        # Replace blocks closest to centers with those centers\n",
        "\n",
        "        legos = torch.where(\n",
        "            (distances < delta).view(-1, 1),\n",
        "            torch.from_numpy(kmeans.cluster_centers_[kmeans.labels_]).to(device).type_as(blocks),\n",
        "            blocks\n",
        "        )\n",
        "        blocks_replaced = (blocks != legos).all(axis=1).sum()\n",
        "        block_count = len(legos)\n",
        "\n",
        "        # Convert legos back to original shape and update model\n",
        "\n",
        "        legos_used = 0\n",
        "\n",
        "        for i, module in enumerate(modules_to_update):\n",
        "            n_legos = module.weight.numel() // block_size ** 2\n",
        "            module_legos = legos[legos_used:legos_used + n_legos]\n",
        "            legos_used += n_legos\n",
        "            updated_weight = deblockify(module_legos, *module.weight.shape)\n",
        "            module.weight.data = torch.as_tensor(updated_weight).to(device)\n",
        "        \n",
        "        return lego_model, blocks_replaced, block_count\n",
        "    \n",
        "    return legoify"
      ],
      "execution_count": 5,
      "outputs": []
    },
    {
      "cell_type": "code",
      "metadata": {
        "id": "Fx3Z4t4BhnQz"
      },
      "source": [
        "module_filters = {\n",
        "    'all': MODULE_FILTER,\n",
        "    'conv': lambda name, module: isinstance(module, nn.Conv2d),\n",
        "    'linear': lambda name, module: isinstance(module, nn.Linear) and name != 'classifier.6'\n",
        "}\n",
        "deltas = np.linspace(0.001, 0.1, num=50)\n",
        "\n",
        "results = {}\n",
        "for filter_name, module_filter in module_filters.items():\n",
        "    results[filter_name] = {}\n",
        "    legoify = legoifier(model, module_filter=module_filter)\n",
        "    for delta in deltas:\n",
        "        lego_model, blocks_replaced, block_count = legoify(delta=delta)\n",
        "        accuracy = test(lego_model)\n",
        "        results[filter_name][delta] = {\n",
        "            'accuracy': accuracy,\n",
        "            'replaced': (blocks_replaced / block_count).item()\n",
        "        }\n",
        "\n",
        "del lego_model  # Takes up 0.5 GB of memory!\n",
        "\n",
        "with open('/content/gdrive/My Drive/legos.json', 'w') as f:\n",
        "    json.dump(results, f, sort_keys=True, indent=4)"
      ],
      "execution_count": 6,
      "outputs": []
    },
    {
      "cell_type": "code",
      "metadata": {
        "colab": {
          "base_uri": "https://localhost:8080/",
          "height": 573
        },
        "id": "21oa86077oXz",
        "outputId": "e57e0359-5d4f-41f4-c5a9-0ffdff89b993"
      },
      "source": [
        "plt.title('Lego-ified Model Accuracy')\n",
        "plt.xlabel('Delta')\n",
        "plt.ylabel('% Accuracy')\n",
        "for filter_name in module_filters.keys():\n",
        "    plt.plot(list(results[filter_name].keys()), [value['accuracy'] for value in results[filter_name].values()], label=filter_name)\n",
        "plt.legend()\n",
        "plt.show()\n",
        "\n",
        "plt.title('Blocks Replaced by Cluster Centers')\n",
        "plt.xlabel('Delta')\n",
        "plt.ylabel('% Replaced')\n",
        "for filter_name in module_filters.keys():\n",
        "    plt.plot(list(results[filter_name].keys()), [value['replaced'] for value in results[filter_name].values()], label=filter_name)\n",
        "plt.legend()\n",
        "plt.show()"
      ],
      "execution_count": 27,
      "outputs": [
        {
          "output_type": "display_data",
          "data": {
            "image/png": "[encoded data removed]",
            "text/plain": [
              "<Figure size 432x288 with 1 Axes>"
            ]
          },
          "metadata": {
            "tags": [],
            "needs_background": "light"
          }
        },
        {
          "output_type": "display_data",
          "data": {
            "image/png": "[encoded data removed]",
            "text/plain": [
              "<Figure size 432x288 with 1 Axes>"
            ]
          },
          "metadata": {
            "tags": [],
            "needs_background": "light"
          }
        }
      ]
    }
  ]
}